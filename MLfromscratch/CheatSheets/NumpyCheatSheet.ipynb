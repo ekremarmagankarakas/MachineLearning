{
 "cells": [
  {
   "cell_type": "code",
   "execution_count": 41,
   "metadata": {},
   "outputs": [],
   "source": [
    "import numpy as np"
   ]
  },
  {
   "cell_type": "markdown",
   "metadata": {},
   "source": [
    "### Creating Arrays"
   ]
  },
  {
   "cell_type": "code",
   "execution_count": 42,
   "metadata": {},
   "outputs": [],
   "source": [
    "# 1D array\n",
    "arr1 = np.array([1, 2, 3, 4])\n",
    "\n",
    "# 2D array\n",
    "arr2 = np.array([[1, 2, 3], [4, 5, 6]])\n",
    "\n",
    "# Zeros array\n",
    "zeros = np.zeros((3, 3))\n",
    "\n",
    "# Ones array\n",
    "ones = np.ones((2, 2))\n",
    "\n",
    "# Identity matrix\n",
    "identity = np.eye(3)\n",
    "\n",
    "# Random numbers\n",
    "random_array = np.random.rand(3, 3)"
   ]
  },
  {
   "cell_type": "markdown",
   "metadata": {},
   "source": [
    "### Array Properties"
   ]
  },
  {
   "cell_type": "code",
   "execution_count": 43,
   "metadata": {},
   "outputs": [
    {
     "name": "stdout",
     "output_type": "stream",
     "text": [
      "(2, 3)\n",
      "6\n",
      "int64\n",
      "2\n",
      "8\n",
      "48\n"
     ]
    }
   ],
   "source": [
    "arr = np.array([[1, 2, 3], [4, 5, 6]])\n",
    "print(arr.shape)  # (2, 3) - rows, columns\n",
    "print(arr.size)   # 6 - number of elements\n",
    "print(arr.dtype)  # int64 - data type of elements\n",
    "print(arr.ndim)   # 2 - number of dimensions\n",
    "print(arr.itemsize)  # 8 - size of each element in bytes\n",
    "print(arr.nbytes)  # 48 - total size of array in bytes"
   ]
  },
  {
   "cell_type": "markdown",
   "metadata": {},
   "source": [
    "### Indexing and Slicing"
   ]
  },
  {
   "cell_type": "code",
   "execution_count": 44,
   "metadata": {},
   "outputs": [
    {
     "name": "stdout",
     "output_type": "stream",
     "text": [
      "20\n",
      "50\n",
      "[20 30 40]\n",
      "6\n",
      "[2 5]\n"
     ]
    }
   ],
   "source": [
    "arr = np.array([10, 20, 30, 40, 50])\n",
    "print(arr[1])      # 20\n",
    "print(arr[-1])     # 50\n",
    "print(arr[1:4])    # [20, 30, 40]\n",
    "\n",
    "# 2D array indexing\n",
    "arr2d = np.array([[1, 2, 3], [4, 5, 6]])\n",
    "print(arr2d[1, 2])  # 6\n",
    "print(arr2d[:, 1])  # Select second column"
   ]
  },
  {
   "cell_type": "markdown",
   "metadata": {},
   "source": [
    "### Reshaping Arrays"
   ]
  },
  {
   "cell_type": "code",
   "execution_count": 45,
   "metadata": {},
   "outputs": [
    {
     "name": "stdout",
     "output_type": "stream",
     "text": [
      "[[1 2]\n",
      " [3 4]\n",
      " [5 6]]\n",
      "\n",
      "[1 2 3 4 5 6]\n"
     ]
    }
   ],
   "source": [
    "arr = np.array([[1, 2, 3], [4, 5, 6]])\n",
    "reshaped = arr.reshape((3, 2)) # [[1, 2], [3, 4], [5, 6]] - 3 rows, 2 columns\n",
    "flattened = arr.flatten() # [1, 2, 3, 4, 5, 6] - 1D array\n",
    "print(reshaped)\n",
    "print()\n",
    "print(flattened)"
   ]
  },
  {
   "cell_type": "markdown",
   "metadata": {},
   "source": [
    "### Math Operations"
   ]
  },
  {
   "cell_type": "code",
   "execution_count": 46,
   "metadata": {},
   "outputs": [
    {
     "name": "stdout",
     "output_type": "stream",
     "text": [
      "[5 7 9]\n",
      "[2 4 6]\n",
      "[1.         1.41421356 1.73205081]\n",
      "[ 2.71828183  7.3890561  20.08553692]\n",
      "[0.         0.69314718 1.09861229]\n",
      "[0.84147098 0.90929743 0.14112001]\n"
     ]
    }
   ],
   "source": [
    "arr1 = np.array([1, 2, 3])\n",
    "arr2 = np.array([4, 5, 6])\n",
    "print(arr1 + arr2)  # [5, 7, 9] - element-wise addition\n",
    "print(arr1 * 2)     # [2, 4, 6] - scalar multiplication\n",
    "print(np.sqrt(arr1))  # Square root\n",
    "print(np.exp(arr1))  # Exponential\n",
    "print(np.log(arr1))  # Natural log\n",
    "print(np.sin(arr1))  # Sine function"
   ]
  },
  {
   "cell_type": "markdown",
   "metadata": {},
   "source": [
    "### Aggregations"
   ]
  },
  {
   "cell_type": "code",
   "execution_count": 47,
   "metadata": {},
   "outputs": [
    {
     "name": "stdout",
     "output_type": "stream",
     "text": [
      "15\n",
      "3.0\n",
      "5\n",
      "1\n",
      "3.0\n",
      "1.4142135623730951\n",
      "2.0\n"
     ]
    }
   ],
   "source": [
    "arr = np.array([1, 2, 3, 4, 5])\n",
    "print(np.sum(arr))    # 15\n",
    "print(np.mean(arr))   # 3.0\n",
    "print(np.max(arr))    # 5\n",
    "print(np.min(arr))    # 1\n",
    "print(np.median(arr))  # 3.0\n",
    "print(np.std(arr))     # Standard deviation\n",
    "print(np.var(arr))     # Variance"
   ]
  },
  {
   "cell_type": "markdown",
   "metadata": {},
   "source": [
    "### Stacking and Splitting"
   ]
  },
  {
   "cell_type": "code",
   "execution_count": 48,
   "metadata": {},
   "outputs": [],
   "source": [
    "arr1 = np.array([1, 2, 3])\n",
    "arr2 = np.array([4, 5, 6])\n",
    "stacked = np.vstack((arr1, arr2))  # Vertical stack\n",
    "hstacked = np.hstack((arr1, arr2))  # Horizontal stack\n",
    "split = np.hsplit(stacked, 3)  # Split into 3 arrays"
   ]
  },
  {
   "cell_type": "markdown",
   "metadata": {},
   "source": [
    "### Boolean Masking"
   ]
  },
  {
   "cell_type": "code",
   "execution_count": 49,
   "metadata": {},
   "outputs": [],
   "source": [
    "arr = np.array([1, 2, 3, 4, 5])\n",
    "mask = arr > 3\n",
    "filtered = arr[mask]  # [4, 5]\n",
    "\n",
    "# Conditional replacement\n",
    "arr[arr < 3] = 0  # Replace values less than 3 with 0\n"
   ]
  },
  {
   "cell_type": "markdown",
   "metadata": {},
   "source": [
    "### Linear Algebra"
   ]
  },
  {
   "cell_type": "code",
   "execution_count": 50,
   "metadata": {},
   "outputs": [],
   "source": [
    "A = np.array([[1, 2], [3, 4]])\n",
    "B = np.array([[5, 6], [7, 8]])\n",
    "dot_product = np.dot(A, B)  # Matrix multiplication\n",
    "inverse = np.linalg.inv(A)  # Inverse of A\n",
    "transpose = A.T  # Transpose\n",
    "det = np.linalg.det(A)  # Determinant\n",
    "eigenvalues, eigenvectors = np.linalg.eig(A)  # Eigenvalues & Eigenvectors\n",
    "\n",
    "# Set random seed for reproducibility\n",
    "np.random.seed(42)"
   ]
  },
  {
   "cell_type": "markdown",
   "metadata": {},
   "source": [
    "### Broadcasting"
   ]
  },
  {
   "cell_type": "code",
   "execution_count": 51,
   "metadata": {},
   "outputs": [
    {
     "data": {
      "text/plain": [
       "array([[2, 4, 6],\n",
       "       [5, 7, 9]])"
      ]
     },
     "execution_count": 51,
     "metadata": {},
     "output_type": "execute_result"
    }
   ],
   "source": [
    "arr = np.array([[1, 2, 3], [4, 5, 6]])\n",
    "vector = np.array([1, 2, 3])\n",
    "result = arr + vector  # Adds vector to each row of arr\n",
    "result"
   ]
  },
  {
   "cell_type": "markdown",
   "metadata": {},
   "source": [
    "### Sorting"
   ]
  },
  {
   "cell_type": "code",
   "execution_count": 52,
   "metadata": {},
   "outputs": [
    {
     "data": {
      "text/plain": [
       "(array([1, 1, 2, 3, 4, 5, 9]), array([1, 3, 6, 0, 2, 4, 5]))"
      ]
     },
     "execution_count": 52,
     "metadata": {},
     "output_type": "execute_result"
    }
   ],
   "source": [
    "arr = np.array([3, 1, 4, 1, 5, 9, 2])\n",
    "sorted_arr = np.sort(arr)\n",
    "indices = np.argsort(arr)  # Returns indices of sorted elements\n",
    "sorted_arr, indices"
   ]
  },
  {
   "cell_type": "markdown",
   "metadata": {},
   "source": [
    "### Unique Elements and Counting"
   ]
  },
  {
   "cell_type": "code",
   "execution_count": 53,
   "metadata": {},
   "outputs": [],
   "source": [
    "arr = np.array([1, 2, 2, 3, 3, 3, 4])\n",
    "unique_elements = np.unique(arr)\n",
    "counters = np.bincount(arr)  # Count occurrences of each value"
   ]
  },
  {
   "cell_type": "markdown",
   "metadata": {},
   "source": [
    "### Save and Load Data"
   ]
  },
  {
   "cell_type": "code",
   "execution_count": 54,
   "metadata": {},
   "outputs": [
    {
     "data": {
      "text/plain": [
       "'\\narr = np.array([1, 2, 3, 4, 5])\\nnp.save(\"array.npy\", arr)  # Save to file\\nloaded_arr = np.load(\"array.npy\")  # Load from file\\n\\nnp.savetxt(\"array.txt\", arr)  # Save as text file\\nloaded_txt_arr = np.loadtxt(\"array.txt\")  # Load from text file\\n'"
      ]
     },
     "execution_count": 54,
     "metadata": {},
     "output_type": "execute_result"
    }
   ],
   "source": [
    "'''\n",
    "arr = np.array([1, 2, 3, 4, 5])\n",
    "np.save(\"array.npy\", arr)  # Save to file\n",
    "loaded_arr = np.load(\"array.npy\")  # Load from file\n",
    "\n",
    "np.savetxt(\"array.txt\", arr)  # Save as text file\n",
    "loaded_txt_arr = np.loadtxt(\"array.txt\")  # Load from text file\n",
    "'''"
   ]
  },
  {
   "cell_type": "code",
   "execution_count": null,
   "metadata": {},
   "outputs": [],
   "source": []
  }
 ],
 "metadata": {
  "kernelspec": {
   "display_name": ".venv",
   "language": "python",
   "name": "python3"
  },
  "language_info": {
   "codemirror_mode": {
    "name": "ipython",
    "version": 3
   },
   "file_extension": ".py",
   "mimetype": "text/x-python",
   "name": "python",
   "nbconvert_exporter": "python",
   "pygments_lexer": "ipython3",
   "version": "3.12.3"
  }
 },
 "nbformat": 4,
 "nbformat_minor": 2
}
