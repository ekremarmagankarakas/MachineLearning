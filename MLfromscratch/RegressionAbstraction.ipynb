{
 "cells": [
  {
   "cell_type": "code",
   "execution_count": 16,
   "metadata": {},
   "outputs": [],
   "source": [
    "import numpy as np\n",
    "import matplotlib.pyplot as plt\n",
    "from sklearn.preprocessing import PolynomialFeatures\n",
    "from abc import ABC, abstractmethod\n",
    "\n",
    "class BaseRegression(ABC):\n",
    "    \"\"\"Abstract Base Class for Regression Models.\"\"\"\n",
    "\n",
    "    def __init__(self, learning_rate=0.01, n_iters=500, alpha=0.0, l1_ratio=0.5):\n",
    "        self.lr = learning_rate\n",
    "        self.n_iters = n_iters\n",
    "        self.alpha = alpha\n",
    "        self.l1_ratio = l1_ratio  # Used for Elastic Net\n",
    "        self.weights = None\n",
    "        self.bias = None\n",
    "        self.loss_history = []\n",
    "\n",
    "    def _mse(self, y, y_pred):\n",
    "        \"\"\"Compute Mean Squared Error.\"\"\"\n",
    "        return np.mean((y - y_pred) ** 2)\n",
    "\n",
    "    @abstractmethod\n",
    "    def _compute_regularization(self):\n",
    "        \"\"\"Compute regularization term for weights. Must be implemented by subclasses.\"\"\"\n",
    "        pass\n",
    "\n",
    "    def fit(self, X, y):\n",
    "        \"\"\"Train the model using Gradient Descent.\"\"\"\n",
    "        n_samples, n_features = X.shape\n",
    "        self.weights = np.zeros((n_features, 1))\n",
    "        self.bias = np.zeros((1, 1))\n",
    "\n",
    "        for _ in range(self.n_iters):\n",
    "            y_pred = self._predict_raw(X)\n",
    "            dw = (1 / n_samples) * np.dot(X.T, (y_pred - y)) + self._compute_regularization()\n",
    "            db = (1 / n_samples) * np.sum(y_pred - y)\n",
    "\n",
    "            self.weights -= self.lr * dw\n",
    "            self.bias -= self.lr * db\n",
    "\n",
    "            loss = self._mse(y, y_pred)\n",
    "            self.loss_history.append(loss)\n",
    "\n",
    "    def closed_form_solution(self, X, y):\n",
    "        \"\"\"Compute the closed-form solution using the Normal Equation.\"\"\"\n",
    "        n_samples = X.shape[0]\n",
    "        X_b = np.c_[np.ones((n_samples, 1)), X]  # Add bias column\n",
    "\n",
    "        w_closed = np.linalg.pinv(X_b.T @ X_b) @ X_b.T @ y  # Use pseudo-inverse for stability\n",
    "\n",
    "        self.bias = w_closed[0]  # First element is bias\n",
    "        self.weights = w_closed[1:]  # Remaining are weights\n",
    "\n",
    "    def _predict_raw(self, X):\n",
    "        \"\"\"Compute the raw linear predictions (before activation).\"\"\"\n",
    "        return np.dot(X, self.weights) + self.bias\n",
    "\n",
    "    def predict(self, X):\n",
    "        \"\"\"Make predictions.\"\"\"\n",
    "        return self._predict_raw(X)"
   ]
  },
  {
   "cell_type": "code",
   "execution_count": 17,
   "metadata": {},
   "outputs": [],
   "source": [
    "class LinearRegression(BaseRegression):\n",
    "    \"\"\"Standard Linear Regression (No Regularization).\"\"\"\n",
    "    \n",
    "    def __init__(self, learning_rate=0.01, n_iters=500):\n",
    "        super().__init__(learning_rate, n_iters, alpha=0)\n",
    "\n",
    "    def _compute_regularization(self):\n",
    "        return 0  # No regularization for Linear Regression"
   ]
  },
  {
   "cell_type": "code",
   "execution_count": 18,
   "metadata": {},
   "outputs": [],
   "source": [
    "class PolynomialRegression:\n",
    "    \"\"\"Polynomial Regression Wrapper for Any Regression Model.\"\"\"\n",
    "    \n",
    "    def __init__(self, base_model, degree=2):\n",
    "        self.base_model = base_model\n",
    "        self.degree = degree\n",
    "        self.poly = PolynomialFeatures(degree=degree, include_bias=False)\n",
    "    \n",
    "    def fit(self, X, y):\n",
    "        X_poly = self.poly.fit_transform(X)\n",
    "        self.base_model.fit(X_poly, y)\n",
    "    \n",
    "    def predict(self, X):\n",
    "        X_poly = self.poly.transform(X)\n",
    "        return self.base_model.predict(X_poly)"
   ]
  },
  {
   "cell_type": "code",
   "execution_count": 19,
   "metadata": {},
   "outputs": [],
   "source": [
    "class RidgeRegression(BaseRegression):\n",
    "    \"\"\"Ridge Regression (L2 Regularization).\"\"\"\n",
    "    \n",
    "    def __init__(self, alpha=1.0, learning_rate=0.01, n_iters=500):\n",
    "        super().__init__(learning_rate, n_iters, alpha)\n",
    "\n",
    "    def _compute_regularization(self):\n",
    "        return (self.alpha / self.weights.shape[0]) * self.weights  # L2 Regularization"
   ]
  },
  {
   "cell_type": "code",
   "execution_count": 20,
   "metadata": {},
   "outputs": [],
   "source": [
    "class LassoRegression(BaseRegression):\n",
    "    \"\"\"Lasso Regression (L1 Regularization).\"\"\"\n",
    "    \n",
    "    def __init__(self, alpha=0.1, learning_rate=0.01, n_iters=500):\n",
    "        super().__init__(learning_rate, n_iters, alpha)\n",
    "\n",
    "    def _compute_regularization(self):\n",
    "        return (self.alpha / self.weights.shape[0]) * np.sign(self.weights)  # L1 Regularization"
   ]
  },
  {
   "cell_type": "code",
   "execution_count": 21,
   "metadata": {},
   "outputs": [],
   "source": [
    "class ElasticNetRegression(BaseRegression):\n",
    "    \"\"\"Elastic Net Regression (Combination of Ridge and Lasso).\"\"\"\n",
    "    \n",
    "    def __init__(self, alpha=1.0, l1_ratio=0.5, learning_rate=0.01, n_iters=500):\n",
    "        super().__init__(learning_rate, n_iters, alpha, l1_ratio)\n",
    "\n",
    "    def _compute_regularization(self):\n",
    "        l1_term = self.l1_ratio * np.sign(self.weights)  # L1 (Lasso)\n",
    "        l2_term = (1 - self.l1_ratio) * self.weights  # L2 (Ridge)\n",
    "        return (self.alpha / self.weights.shape[0]) * (l1_term + l2_term)"
   ]
  }
 ],
 "metadata": {
  "kernelspec": {
   "display_name": ".venv",
   "language": "python",
   "name": "python3"
  },
  "language_info": {
   "codemirror_mode": {
    "name": "ipython",
    "version": 3
   },
   "file_extension": ".py",
   "mimetype": "text/x-python",
   "name": "python",
   "nbconvert_exporter": "python",
   "pygments_lexer": "ipython3",
   "version": "3.12.3"
  }
 },
 "nbformat": 4,
 "nbformat_minor": 2
}
